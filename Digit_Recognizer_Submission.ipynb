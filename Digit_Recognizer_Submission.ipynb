{
  "nbformat": 4,
  "nbformat_minor": 0,
  "metadata": {
    "colab": {
      "provenance": [],
      "gpuType": "T4"
    },
    "kernelspec": {
      "name": "python3",
      "display_name": "Python 3"
    },
    "language_info": {
      "name": "python"
    },
    "accelerator": "GPU"
  },
  "cells": [
    {
      "cell_type": "markdown",
      "source": [
        "# Hi There\n",
        "\n",
        "Welcome to the MNIST Handwritten Digit Recognition project! MNIST, short for \"Modified National Institute of Standards and Technology,\" has been a cornerstone dataset in the field of computer vision since its release in 1999. It serves as the quintessential \"hello world\" dataset for classification algorithms, providing tens of thousands of handwritten images of digits for researchers and learners to benchmark their techniques.\n",
        "\n",
        "In this notebook, we will dive on the journey of correctly identifying digits from the MNIST dataset using Convolutional Neural Networks (CNNs). CNNs have revolutionized the field of computer vision and are particularly well-suited for tasks like image recognition.\n",
        "\n",
        "Whether you're new to machine learning or looking to dive deeper into computer vision, this notebook is designed to provide detailed insights and step-by-step guidance for beginners. We will cover every aspect of building a CNN model for MNIST digit recognition, from data preprocessing and model architecture to training and evaluation.\n",
        "\n",
        "By the end of this notebook, you will not only have a solid understanding of how CNNs work but also a practical grasp of how to apply them to real-world image recognition tasks."
      ],
      "metadata": {
        "id": "SjT2tva_mwdI"
      }
    },
    {
      "cell_type": "markdown",
      "source": [
        "# **Import Libraries**"
      ],
      "metadata": {
        "id": "VI_pQMtHmI9Z"
      }
    },
    {
      "cell_type": "code",
      "source": [
        "import pandas as pd\n",
        "import numpy as np\n",
        "import tensorflow as tf\n",
        "import matplotlib.pyplot as plt\n",
        "import seaborn as sns\n",
        "import os\n",
        "import shutil\n",
        "from google.colab import drive, files\n",
        "from sklearn.model_selection import train_test_split\n",
        "\n",
        "from tensorflow.keras.preprocessing.image import ImageDataGenerator\n",
        "from tensorflow.keras.models import Sequential\n",
        "from tensorflow.keras.layers import Conv2D, MaxPooling2D, Flatten, Dense, Dropout, BatchNormalization\n",
        "from tensorflow.keras.applications.inception_v3 import InceptionV3\n",
        "from tensorflow.keras.applications import VGG16\n",
        "from tensorflow.keras import regularizers"
      ],
      "metadata": {
        "id": "6_8nzMhjqHat"
      },
      "execution_count": 17,
      "outputs": []
    },
    {
      "cell_type": "markdown",
      "source": [
        "# **Data Loading**\n"
      ],
      "metadata": {
        "id": "DfQBmWmOma5v"
      }
    },
    {
      "cell_type": "code",
      "source": [
        "# We will use kaggle API for importing the dataset from kaggle to colab\n",
        "! pip install -q kaggle\n",
        "\n",
        "# Upload Kaggle API token file (kaggle.json) from local system to the Colab environment.\n",
        "files.upload()\n",
        "\n",
        "# Creates a directory named .kaggle in home directory\n",
        "! mkdir ~/.kaggle\n",
        "\n",
        "# copies the uploaded kaggle.json file to the .kaggle directory.\n",
        "! cp kaggle.json ~/.kaggle/\n",
        "\n",
        "# Sets the permissions of the kaggle.json file to read and write for the owner only.\n",
        "! chmod 600 ~/.kaggle/kaggle.json"
      ],
      "metadata": {
        "colab": {
          "base_uri": "https://localhost:8080/",
          "height": 91
        },
        "id": "iIAtjyxwlbuB",
        "outputId": "31a4b31e-b3a7-496a-c166-1c93b1436d13"
      },
      "execution_count": 2,
      "outputs": [
        {
          "output_type": "display_data",
          "data": {
            "text/plain": [
              "<IPython.core.display.HTML object>"
            ],
            "text/html": [
              "\n",
              "     <input type=\"file\" id=\"files-ad8cf618-d691-4dd1-8244-c647cdc46671\" name=\"files[]\" multiple disabled\n",
              "        style=\"border:none\" />\n",
              "     <output id=\"result-ad8cf618-d691-4dd1-8244-c647cdc46671\">\n",
              "      Upload widget is only available when the cell has been executed in the\n",
              "      current browser session. Please rerun this cell to enable.\n",
              "      </output>\n",
              "      <script>// Copyright 2017 Google LLC\n",
              "//\n",
              "// Licensed under the Apache License, Version 2.0 (the \"License\");\n",
              "// you may not use this file except in compliance with the License.\n",
              "// You may obtain a copy of the License at\n",
              "//\n",
              "//      http://www.apache.org/licenses/LICENSE-2.0\n",
              "//\n",
              "// Unless required by applicable law or agreed to in writing, software\n",
              "// distributed under the License is distributed on an \"AS IS\" BASIS,\n",
              "// WITHOUT WARRANTIES OR CONDITIONS OF ANY KIND, either express or implied.\n",
              "// See the License for the specific language governing permissions and\n",
              "// limitations under the License.\n",
              "\n",
              "/**\n",
              " * @fileoverview Helpers for google.colab Python module.\n",
              " */\n",
              "(function(scope) {\n",
              "function span(text, styleAttributes = {}) {\n",
              "  const element = document.createElement('span');\n",
              "  element.textContent = text;\n",
              "  for (const key of Object.keys(styleAttributes)) {\n",
              "    element.style[key] = styleAttributes[key];\n",
              "  }\n",
              "  return element;\n",
              "}\n",
              "\n",
              "// Max number of bytes which will be uploaded at a time.\n",
              "const MAX_PAYLOAD_SIZE = 100 * 1024;\n",
              "\n",
              "function _uploadFiles(inputId, outputId) {\n",
              "  const steps = uploadFilesStep(inputId, outputId);\n",
              "  const outputElement = document.getElementById(outputId);\n",
              "  // Cache steps on the outputElement to make it available for the next call\n",
              "  // to uploadFilesContinue from Python.\n",
              "  outputElement.steps = steps;\n",
              "\n",
              "  return _uploadFilesContinue(outputId);\n",
              "}\n",
              "\n",
              "// This is roughly an async generator (not supported in the browser yet),\n",
              "// where there are multiple asynchronous steps and the Python side is going\n",
              "// to poll for completion of each step.\n",
              "// This uses a Promise to block the python side on completion of each step,\n",
              "// then passes the result of the previous step as the input to the next step.\n",
              "function _uploadFilesContinue(outputId) {\n",
              "  const outputElement = document.getElementById(outputId);\n",
              "  const steps = outputElement.steps;\n",
              "\n",
              "  const next = steps.next(outputElement.lastPromiseValue);\n",
              "  return Promise.resolve(next.value.promise).then((value) => {\n",
              "    // Cache the last promise value to make it available to the next\n",
              "    // step of the generator.\n",
              "    outputElement.lastPromiseValue = value;\n",
              "    return next.value.response;\n",
              "  });\n",
              "}\n",
              "\n",
              "/**\n",
              " * Generator function which is called between each async step of the upload\n",
              " * process.\n",
              " * @param {string} inputId Element ID of the input file picker element.\n",
              " * @param {string} outputId Element ID of the output display.\n",
              " * @return {!Iterable<!Object>} Iterable of next steps.\n",
              " */\n",
              "function* uploadFilesStep(inputId, outputId) {\n",
              "  const inputElement = document.getElementById(inputId);\n",
              "  inputElement.disabled = false;\n",
              "\n",
              "  const outputElement = document.getElementById(outputId);\n",
              "  outputElement.innerHTML = '';\n",
              "\n",
              "  const pickedPromise = new Promise((resolve) => {\n",
              "    inputElement.addEventListener('change', (e) => {\n",
              "      resolve(e.target.files);\n",
              "    });\n",
              "  });\n",
              "\n",
              "  const cancel = document.createElement('button');\n",
              "  inputElement.parentElement.appendChild(cancel);\n",
              "  cancel.textContent = 'Cancel upload';\n",
              "  const cancelPromise = new Promise((resolve) => {\n",
              "    cancel.onclick = () => {\n",
              "      resolve(null);\n",
              "    };\n",
              "  });\n",
              "\n",
              "  // Wait for the user to pick the files.\n",
              "  const files = yield {\n",
              "    promise: Promise.race([pickedPromise, cancelPromise]),\n",
              "    response: {\n",
              "      action: 'starting',\n",
              "    }\n",
              "  };\n",
              "\n",
              "  cancel.remove();\n",
              "\n",
              "  // Disable the input element since further picks are not allowed.\n",
              "  inputElement.disabled = true;\n",
              "\n",
              "  if (!files) {\n",
              "    return {\n",
              "      response: {\n",
              "        action: 'complete',\n",
              "      }\n",
              "    };\n",
              "  }\n",
              "\n",
              "  for (const file of files) {\n",
              "    const li = document.createElement('li');\n",
              "    li.append(span(file.name, {fontWeight: 'bold'}));\n",
              "    li.append(span(\n",
              "        `(${file.type || 'n/a'}) - ${file.size} bytes, ` +\n",
              "        `last modified: ${\n",
              "            file.lastModifiedDate ? file.lastModifiedDate.toLocaleDateString() :\n",
              "                                    'n/a'} - `));\n",
              "    const percent = span('0% done');\n",
              "    li.appendChild(percent);\n",
              "\n",
              "    outputElement.appendChild(li);\n",
              "\n",
              "    const fileDataPromise = new Promise((resolve) => {\n",
              "      const reader = new FileReader();\n",
              "      reader.onload = (e) => {\n",
              "        resolve(e.target.result);\n",
              "      };\n",
              "      reader.readAsArrayBuffer(file);\n",
              "    });\n",
              "    // Wait for the data to be ready.\n",
              "    let fileData = yield {\n",
              "      promise: fileDataPromise,\n",
              "      response: {\n",
              "        action: 'continue',\n",
              "      }\n",
              "    };\n",
              "\n",
              "    // Use a chunked sending to avoid message size limits. See b/62115660.\n",
              "    let position = 0;\n",
              "    do {\n",
              "      const length = Math.min(fileData.byteLength - position, MAX_PAYLOAD_SIZE);\n",
              "      const chunk = new Uint8Array(fileData, position, length);\n",
              "      position += length;\n",
              "\n",
              "      const base64 = btoa(String.fromCharCode.apply(null, chunk));\n",
              "      yield {\n",
              "        response: {\n",
              "          action: 'append',\n",
              "          file: file.name,\n",
              "          data: base64,\n",
              "        },\n",
              "      };\n",
              "\n",
              "      let percentDone = fileData.byteLength === 0 ?\n",
              "          100 :\n",
              "          Math.round((position / fileData.byteLength) * 100);\n",
              "      percent.textContent = `${percentDone}% done`;\n",
              "\n",
              "    } while (position < fileData.byteLength);\n",
              "  }\n",
              "\n",
              "  // All done.\n",
              "  yield {\n",
              "    response: {\n",
              "      action: 'complete',\n",
              "    }\n",
              "  };\n",
              "}\n",
              "\n",
              "scope.google = scope.google || {};\n",
              "scope.google.colab = scope.google.colab || {};\n",
              "scope.google.colab._files = {\n",
              "  _uploadFiles,\n",
              "  _uploadFilesContinue,\n",
              "};\n",
              "})(self);\n",
              "</script> "
            ]
          },
          "metadata": {}
        },
        {
          "output_type": "stream",
          "name": "stdout",
          "text": [
            "Saving kaggle.json to kaggle (1).json\n",
            "mkdir: cannot create directory ‘/root/.kaggle’: File exists\n"
          ]
        }
      ]
    },
    {
      "cell_type": "code",
      "source": [
        "# Then we can download the digit-recognier data and unzip it to \"data\" folder\n",
        "! kaggle competitions download -c 'digit-recognizer'\n",
        "\n",
        "! mkdir data\n",
        "! unzip digit-recognizer.zip -d data"
      ],
      "metadata": {
        "colab": {
          "base_uri": "https://localhost:8080/"
        },
        "id": "Oj7tUCZxlrWS",
        "outputId": "78fbcad8-89f2-4e28-eaa1-e83120e07983"
      },
      "execution_count": 3,
      "outputs": [
        {
          "output_type": "stream",
          "name": "stdout",
          "text": [
            "Downloading digit-recognizer.zip to /content\n",
            "\r  0% 0.00/15.3M [00:00<?, ?B/s]\n",
            "\r100% 15.3M/15.3M [00:00<00:00, 208MB/s]\n",
            "Archive:  digit-recognizer.zip\n",
            "  inflating: data/sample_submission.csv  \n",
            "  inflating: data/test.csv           \n",
            "  inflating: data/train.csv          \n"
          ]
        }
      ]
    },
    {
      "cell_type": "code",
      "source": [
        "train = pd.read_csv('data/train.csv')\n",
        "test = pd.read_csv('data/test.csv')"
      ],
      "metadata": {
        "id": "GqNP531lqPVI"
      },
      "execution_count": 5,
      "outputs": []
    },
    {
      "cell_type": "markdown",
      "source": [
        "reads the CSV file named train.csv and test.csv located in the data directory into a Pandas DataFrame named train and test."
      ],
      "metadata": {
        "id": "WKWxY-Tlnm9_"
      }
    },
    {
      "cell_type": "markdown",
      "source": [
        "# **EDA**"
      ],
      "metadata": {
        "id": "socs6MzTmeun"
      }
    },
    {
      "cell_type": "code",
      "source": [
        "# Show first 5 rows of the DataFrame train.\n",
        "train.head()"
      ],
      "metadata": {
        "colab": {
          "base_uri": "https://localhost:8080/",
          "height": 235
        },
        "id": "BwDxVFvZrqce",
        "outputId": "315348f3-646f-41a4-c1d6-5167e920c91c"
      },
      "execution_count": 6,
      "outputs": [
        {
          "output_type": "execute_result",
          "data": {
            "text/plain": [
              "   label  pixel0  pixel1  pixel2  pixel3  pixel4  pixel5  pixel6  pixel7  \\\n",
              "0      1       0       0       0       0       0       0       0       0   \n",
              "1      0       0       0       0       0       0       0       0       0   \n",
              "2      1       0       0       0       0       0       0       0       0   \n",
              "3      4       0       0       0       0       0       0       0       0   \n",
              "4      0       0       0       0       0       0       0       0       0   \n",
              "\n",
              "   pixel8  ...  pixel774  pixel775  pixel776  pixel777  pixel778  pixel779  \\\n",
              "0       0  ...         0         0         0         0         0         0   \n",
              "1       0  ...         0         0         0         0         0         0   \n",
              "2       0  ...         0         0         0         0         0         0   \n",
              "3       0  ...         0         0         0         0         0         0   \n",
              "4       0  ...         0         0         0         0         0         0   \n",
              "\n",
              "   pixel780  pixel781  pixel782  pixel783  \n",
              "0         0         0         0         0  \n",
              "1         0         0         0         0  \n",
              "2         0         0         0         0  \n",
              "3         0         0         0         0  \n",
              "4         0         0         0         0  \n",
              "\n",
              "[5 rows x 785 columns]"
            ],
            "text/html": [
              "\n",
              "  <div id=\"df-a734a0c1-0138-439f-81d3-f516784adc75\" class=\"colab-df-container\">\n",
              "    <div>\n",
              "<style scoped>\n",
              "    .dataframe tbody tr th:only-of-type {\n",
              "        vertical-align: middle;\n",
              "    }\n",
              "\n",
              "    .dataframe tbody tr th {\n",
              "        vertical-align: top;\n",
              "    }\n",
              "\n",
              "    .dataframe thead th {\n",
              "        text-align: right;\n",
              "    }\n",
              "</style>\n",
              "<table border=\"1\" class=\"dataframe\">\n",
              "  <thead>\n",
              "    <tr style=\"text-align: right;\">\n",
              "      <th></th>\n",
              "      <th>label</th>\n",
              "      <th>pixel0</th>\n",
              "      <th>pixel1</th>\n",
              "      <th>pixel2</th>\n",
              "      <th>pixel3</th>\n",
              "      <th>pixel4</th>\n",
              "      <th>pixel5</th>\n",
              "      <th>pixel6</th>\n",
              "      <th>pixel7</th>\n",
              "      <th>pixel8</th>\n",
              "      <th>...</th>\n",
              "      <th>pixel774</th>\n",
              "      <th>pixel775</th>\n",
              "      <th>pixel776</th>\n",
              "      <th>pixel777</th>\n",
              "      <th>pixel778</th>\n",
              "      <th>pixel779</th>\n",
              "      <th>pixel780</th>\n",
              "      <th>pixel781</th>\n",
              "      <th>pixel782</th>\n",
              "      <th>pixel783</th>\n",
              "    </tr>\n",
              "  </thead>\n",
              "  <tbody>\n",
              "    <tr>\n",
              "      <th>0</th>\n",
              "      <td>1</td>\n",
              "      <td>0</td>\n",
              "      <td>0</td>\n",
              "      <td>0</td>\n",
              "      <td>0</td>\n",
              "      <td>0</td>\n",
              "      <td>0</td>\n",
              "      <td>0</td>\n",
              "      <td>0</td>\n",
              "      <td>0</td>\n",
              "      <td>...</td>\n",
              "      <td>0</td>\n",
              "      <td>0</td>\n",
              "      <td>0</td>\n",
              "      <td>0</td>\n",
              "      <td>0</td>\n",
              "      <td>0</td>\n",
              "      <td>0</td>\n",
              "      <td>0</td>\n",
              "      <td>0</td>\n",
              "      <td>0</td>\n",
              "    </tr>\n",
              "    <tr>\n",
              "      <th>1</th>\n",
              "      <td>0</td>\n",
              "      <td>0</td>\n",
              "      <td>0</td>\n",
              "      <td>0</td>\n",
              "      <td>0</td>\n",
              "      <td>0</td>\n",
              "      <td>0</td>\n",
              "      <td>0</td>\n",
              "      <td>0</td>\n",
              "      <td>0</td>\n",
              "      <td>...</td>\n",
              "      <td>0</td>\n",
              "      <td>0</td>\n",
              "      <td>0</td>\n",
              "      <td>0</td>\n",
              "      <td>0</td>\n",
              "      <td>0</td>\n",
              "      <td>0</td>\n",
              "      <td>0</td>\n",
              "      <td>0</td>\n",
              "      <td>0</td>\n",
              "    </tr>\n",
              "    <tr>\n",
              "      <th>2</th>\n",
              "      <td>1</td>\n",
              "      <td>0</td>\n",
              "      <td>0</td>\n",
              "      <td>0</td>\n",
              "      <td>0</td>\n",
              "      <td>0</td>\n",
              "      <td>0</td>\n",
              "      <td>0</td>\n",
              "      <td>0</td>\n",
              "      <td>0</td>\n",
              "      <td>...</td>\n",
              "      <td>0</td>\n",
              "      <td>0</td>\n",
              "      <td>0</td>\n",
              "      <td>0</td>\n",
              "      <td>0</td>\n",
              "      <td>0</td>\n",
              "      <td>0</td>\n",
              "      <td>0</td>\n",
              "      <td>0</td>\n",
              "      <td>0</td>\n",
              "    </tr>\n",
              "    <tr>\n",
              "      <th>3</th>\n",
              "      <td>4</td>\n",
              "      <td>0</td>\n",
              "      <td>0</td>\n",
              "      <td>0</td>\n",
              "      <td>0</td>\n",
              "      <td>0</td>\n",
              "      <td>0</td>\n",
              "      <td>0</td>\n",
              "      <td>0</td>\n",
              "      <td>0</td>\n",
              "      <td>...</td>\n",
              "      <td>0</td>\n",
              "      <td>0</td>\n",
              "      <td>0</td>\n",
              "      <td>0</td>\n",
              "      <td>0</td>\n",
              "      <td>0</td>\n",
              "      <td>0</td>\n",
              "      <td>0</td>\n",
              "      <td>0</td>\n",
              "      <td>0</td>\n",
              "    </tr>\n",
              "    <tr>\n",
              "      <th>4</th>\n",
              "      <td>0</td>\n",
              "      <td>0</td>\n",
              "      <td>0</td>\n",
              "      <td>0</td>\n",
              "      <td>0</td>\n",
              "      <td>0</td>\n",
              "      <td>0</td>\n",
              "      <td>0</td>\n",
              "      <td>0</td>\n",
              "      <td>0</td>\n",
              "      <td>...</td>\n",
              "      <td>0</td>\n",
              "      <td>0</td>\n",
              "      <td>0</td>\n",
              "      <td>0</td>\n",
              "      <td>0</td>\n",
              "      <td>0</td>\n",
              "      <td>0</td>\n",
              "      <td>0</td>\n",
              "      <td>0</td>\n",
              "      <td>0</td>\n",
              "    </tr>\n",
              "  </tbody>\n",
              "</table>\n",
              "<p>5 rows × 785 columns</p>\n",
              "</div>\n",
              "    <div class=\"colab-df-buttons\">\n",
              "\n",
              "  <div class=\"colab-df-container\">\n",
              "    <button class=\"colab-df-convert\" onclick=\"convertToInteractive('df-a734a0c1-0138-439f-81d3-f516784adc75')\"\n",
              "            title=\"Convert this dataframe to an interactive table.\"\n",
              "            style=\"display:none;\">\n",
              "\n",
              "  <svg xmlns=\"http://www.w3.org/2000/svg\" height=\"24px\" viewBox=\"0 -960 960 960\">\n",
              "    <path d=\"M120-120v-720h720v720H120Zm60-500h600v-160H180v160Zm220 220h160v-160H400v160Zm0 220h160v-160H400v160ZM180-400h160v-160H180v160Zm440 0h160v-160H620v160ZM180-180h160v-160H180v160Zm440 0h160v-160H620v160Z\"/>\n",
              "  </svg>\n",
              "    </button>\n",
              "\n",
              "  <style>\n",
              "    .colab-df-container {\n",
              "      display:flex;\n",
              "      gap: 12px;\n",
              "    }\n",
              "\n",
              "    .colab-df-convert {\n",
              "      background-color: #E8F0FE;\n",
              "      border: none;\n",
              "      border-radius: 50%;\n",
              "      cursor: pointer;\n",
              "      display: none;\n",
              "      fill: #1967D2;\n",
              "      height: 32px;\n",
              "      padding: 0 0 0 0;\n",
              "      width: 32px;\n",
              "    }\n",
              "\n",
              "    .colab-df-convert:hover {\n",
              "      background-color: #E2EBFA;\n",
              "      box-shadow: 0px 1px 2px rgba(60, 64, 67, 0.3), 0px 1px 3px 1px rgba(60, 64, 67, 0.15);\n",
              "      fill: #174EA6;\n",
              "    }\n",
              "\n",
              "    .colab-df-buttons div {\n",
              "      margin-bottom: 4px;\n",
              "    }\n",
              "\n",
              "    [theme=dark] .colab-df-convert {\n",
              "      background-color: #3B4455;\n",
              "      fill: #D2E3FC;\n",
              "    }\n",
              "\n",
              "    [theme=dark] .colab-df-convert:hover {\n",
              "      background-color: #434B5C;\n",
              "      box-shadow: 0px 1px 3px 1px rgba(0, 0, 0, 0.15);\n",
              "      filter: drop-shadow(0px 1px 2px rgba(0, 0, 0, 0.3));\n",
              "      fill: #FFFFFF;\n",
              "    }\n",
              "  </style>\n",
              "\n",
              "    <script>\n",
              "      const buttonEl =\n",
              "        document.querySelector('#df-a734a0c1-0138-439f-81d3-f516784adc75 button.colab-df-convert');\n",
              "      buttonEl.style.display =\n",
              "        google.colab.kernel.accessAllowed ? 'block' : 'none';\n",
              "\n",
              "      async function convertToInteractive(key) {\n",
              "        const element = document.querySelector('#df-a734a0c1-0138-439f-81d3-f516784adc75');\n",
              "        const dataTable =\n",
              "          await google.colab.kernel.invokeFunction('convertToInteractive',\n",
              "                                                    [key], {});\n",
              "        if (!dataTable) return;\n",
              "\n",
              "        const docLinkHtml = 'Like what you see? Visit the ' +\n",
              "          '<a target=\"_blank\" href=https://colab.research.google.com/notebooks/data_table.ipynb>data table notebook</a>'\n",
              "          + ' to learn more about interactive tables.';\n",
              "        element.innerHTML = '';\n",
              "        dataTable['output_type'] = 'display_data';\n",
              "        await google.colab.output.renderOutput(dataTable, element);\n",
              "        const docLink = document.createElement('div');\n",
              "        docLink.innerHTML = docLinkHtml;\n",
              "        element.appendChild(docLink);\n",
              "      }\n",
              "    </script>\n",
              "  </div>\n",
              "\n",
              "\n",
              "<div id=\"df-033d415b-a494-43de-bb8f-ad5a352db45c\">\n",
              "  <button class=\"colab-df-quickchart\" onclick=\"quickchart('df-033d415b-a494-43de-bb8f-ad5a352db45c')\"\n",
              "            title=\"Suggest charts\"\n",
              "            style=\"display:none;\">\n",
              "\n",
              "<svg xmlns=\"http://www.w3.org/2000/svg\" height=\"24px\"viewBox=\"0 0 24 24\"\n",
              "     width=\"24px\">\n",
              "    <g>\n",
              "        <path d=\"M19 3H5c-1.1 0-2 .9-2 2v14c0 1.1.9 2 2 2h14c1.1 0 2-.9 2-2V5c0-1.1-.9-2-2-2zM9 17H7v-7h2v7zm4 0h-2V7h2v10zm4 0h-2v-4h2v4z\"/>\n",
              "    </g>\n",
              "</svg>\n",
              "  </button>\n",
              "\n",
              "<style>\n",
              "  .colab-df-quickchart {\n",
              "      --bg-color: #E8F0FE;\n",
              "      --fill-color: #1967D2;\n",
              "      --hover-bg-color: #E2EBFA;\n",
              "      --hover-fill-color: #174EA6;\n",
              "      --disabled-fill-color: #AAA;\n",
              "      --disabled-bg-color: #DDD;\n",
              "  }\n",
              "\n",
              "  [theme=dark] .colab-df-quickchart {\n",
              "      --bg-color: #3B4455;\n",
              "      --fill-color: #D2E3FC;\n",
              "      --hover-bg-color: #434B5C;\n",
              "      --hover-fill-color: #FFFFFF;\n",
              "      --disabled-bg-color: #3B4455;\n",
              "      --disabled-fill-color: #666;\n",
              "  }\n",
              "\n",
              "  .colab-df-quickchart {\n",
              "    background-color: var(--bg-color);\n",
              "    border: none;\n",
              "    border-radius: 50%;\n",
              "    cursor: pointer;\n",
              "    display: none;\n",
              "    fill: var(--fill-color);\n",
              "    height: 32px;\n",
              "    padding: 0;\n",
              "    width: 32px;\n",
              "  }\n",
              "\n",
              "  .colab-df-quickchart:hover {\n",
              "    background-color: var(--hover-bg-color);\n",
              "    box-shadow: 0 1px 2px rgba(60, 64, 67, 0.3), 0 1px 3px 1px rgba(60, 64, 67, 0.15);\n",
              "    fill: var(--button-hover-fill-color);\n",
              "  }\n",
              "\n",
              "  .colab-df-quickchart-complete:disabled,\n",
              "  .colab-df-quickchart-complete:disabled:hover {\n",
              "    background-color: var(--disabled-bg-color);\n",
              "    fill: var(--disabled-fill-color);\n",
              "    box-shadow: none;\n",
              "  }\n",
              "\n",
              "  .colab-df-spinner {\n",
              "    border: 2px solid var(--fill-color);\n",
              "    border-color: transparent;\n",
              "    border-bottom-color: var(--fill-color);\n",
              "    animation:\n",
              "      spin 1s steps(1) infinite;\n",
              "  }\n",
              "\n",
              "  @keyframes spin {\n",
              "    0% {\n",
              "      border-color: transparent;\n",
              "      border-bottom-color: var(--fill-color);\n",
              "      border-left-color: var(--fill-color);\n",
              "    }\n",
              "    20% {\n",
              "      border-color: transparent;\n",
              "      border-left-color: var(--fill-color);\n",
              "      border-top-color: var(--fill-color);\n",
              "    }\n",
              "    30% {\n",
              "      border-color: transparent;\n",
              "      border-left-color: var(--fill-color);\n",
              "      border-top-color: var(--fill-color);\n",
              "      border-right-color: var(--fill-color);\n",
              "    }\n",
              "    40% {\n",
              "      border-color: transparent;\n",
              "      border-right-color: var(--fill-color);\n",
              "      border-top-color: var(--fill-color);\n",
              "    }\n",
              "    60% {\n",
              "      border-color: transparent;\n",
              "      border-right-color: var(--fill-color);\n",
              "    }\n",
              "    80% {\n",
              "      border-color: transparent;\n",
              "      border-right-color: var(--fill-color);\n",
              "      border-bottom-color: var(--fill-color);\n",
              "    }\n",
              "    90% {\n",
              "      border-color: transparent;\n",
              "      border-bottom-color: var(--fill-color);\n",
              "    }\n",
              "  }\n",
              "</style>\n",
              "\n",
              "  <script>\n",
              "    async function quickchart(key) {\n",
              "      const quickchartButtonEl =\n",
              "        document.querySelector('#' + key + ' button');\n",
              "      quickchartButtonEl.disabled = true;  // To prevent multiple clicks.\n",
              "      quickchartButtonEl.classList.add('colab-df-spinner');\n",
              "      try {\n",
              "        const charts = await google.colab.kernel.invokeFunction(\n",
              "            'suggestCharts', [key], {});\n",
              "      } catch (error) {\n",
              "        console.error('Error during call to suggestCharts:', error);\n",
              "      }\n",
              "      quickchartButtonEl.classList.remove('colab-df-spinner');\n",
              "      quickchartButtonEl.classList.add('colab-df-quickchart-complete');\n",
              "    }\n",
              "    (() => {\n",
              "      let quickchartButtonEl =\n",
              "        document.querySelector('#df-033d415b-a494-43de-bb8f-ad5a352db45c button');\n",
              "      quickchartButtonEl.style.display =\n",
              "        google.colab.kernel.accessAllowed ? 'block' : 'none';\n",
              "    })();\n",
              "  </script>\n",
              "</div>\n",
              "    </div>\n",
              "  </div>\n"
            ],
            "application/vnd.google.colaboratory.intrinsic+json": {
              "type": "dataframe",
              "variable_name": "train"
            }
          },
          "metadata": {},
          "execution_count": 6
        }
      ]
    },
    {
      "cell_type": "markdown",
      "source": [
        "The first column is label and the other colum is pixel representing a number, we need to devide the label and the features"
      ],
      "metadata": {
        "id": "FPHurvlutqMo"
      }
    },
    {
      "cell_type": "markdown",
      "source": [
        "Next, i will check the number of samples of each train and test set\n"
      ],
      "metadata": {
        "id": "IVjuzFJQTBoz"
      }
    },
    {
      "cell_type": "code",
      "source": [
        "print('Number of Train Sample: ', train.shape[0])\n",
        "print('Number of Test Sample: ', test.shape[0])"
      ],
      "metadata": {
        "colab": {
          "base_uri": "https://localhost:8080/"
        },
        "id": "g7OwRSqMTF0a",
        "outputId": "b63eed4b-f344-458b-96a1-1478d466915f"
      },
      "execution_count": 7,
      "outputs": [
        {
          "output_type": "stream",
          "name": "stdout",
          "text": [
            "Number of Train Sample:  42000\n",
            "Number of Test Sample:  28000\n"
          ]
        }
      ]
    },
    {
      "cell_type": "code",
      "source": [
        "# A concise summary of the DataFrame train\n",
        "train.info()"
      ],
      "metadata": {
        "id": "ISoWIONHmSQP"
      },
      "execution_count": null,
      "outputs": []
    },
    {
      "cell_type": "code",
      "source": [
        "# use only label column for Y_train\n",
        "Y_train = train[\"label\"]\n",
        "\n",
        "# Drop the label column for X_train\n",
        "X_train = train.drop(labels = [\"label\"],axis = 1)\n",
        "\n",
        "# Let's see what is the Y_train looks like\n",
        "sns.countplot(x=Y_train)\n",
        "Y_train.value_counts()"
      ],
      "metadata": {
        "colab": {
          "base_uri": "https://localhost:8080/",
          "height": 668
        },
        "id": "gY9Aqpfbq8cL",
        "outputId": "3116bf68-3c51-4088-8a07-055ee369ed49"
      },
      "execution_count": 9,
      "outputs": [
        {
          "output_type": "execute_result",
          "data": {
            "text/plain": [
              "label\n",
              "1    4684\n",
              "7    4401\n",
              "3    4351\n",
              "9    4188\n",
              "2    4177\n",
              "6    4137\n",
              "0    4132\n",
              "4    4072\n",
              "8    4063\n",
              "5    3795\n",
              "Name: count, dtype: int64"
            ]
          },
          "metadata": {},
          "execution_count": 9
        },
        {
          "output_type": "display_data",
          "data": {
            "text/plain": [
              "<Figure size 640x480 with 1 Axes>"
            ],
            "image/png": "[encoded data removed]"
          },
          "metadata": {}
        }
      ]
    },
    {
      "cell_type": "markdown",
      "source": [
        "The sample number is identical and pretty balanced\n"
      ],
      "metadata": {
        "id": "qo8kdjQpthY5"
      }
    },
    {
      "cell_type": "markdown",
      "source": [
        "## Missing Values\n"
      ],
      "metadata": {
        "id": "wU8J1pW4sRkY"
      }
    },
    {
      "cell_type": "code",
      "source": [
        "# Check missing values\n",
        "print('Missing Values Train-set :',train.isnull().values.any())\n",
        "print('Missing Values Test-set :',test.isnull().values.any())"
      ],
      "metadata": {
        "colab": {
          "base_uri": "https://localhost:8080/"
        },
        "id": "VEmHUFNdvZfR",
        "outputId": "b9dae415-afe4-4bf8-f4f3-d8b4a737df78"
      },
      "execution_count": 8,
      "outputs": [
        {
          "output_type": "stream",
          "name": "stdout",
          "text": [
            "Missing Values Train-set : False\n",
            "Missing Values Test-set : False\n"
          ]
        }
      ]
    },
    {
      "cell_type": "markdown",
      "source": [
        "which means there are no missing values in both train and test set"
      ],
      "metadata": {
        "id": "tnLI9B0pwPq4"
      }
    },
    {
      "cell_type": "markdown",
      "source": [
        "## Data Splitting"
      ],
      "metadata": {
        "id": "vNqEzAW9Susj"
      }
    },
    {
      "cell_type": "code",
      "source": [
        "# Data Normalization\n",
        "X_train = X_train / 255.0\n",
        "X_test = test / 255.0\n",
        "\n",
        "# Data Reshape\n",
        "X_train = X_train.values.reshape(-1,28,28,1)\n",
        "X_test = X_test.values.reshape(-1,28,28,1)\n",
        "\n",
        "# Encoding\n",
        "Y_train = tf.keras.utils.to_categorical(Y_train, num_classes = 10)"
      ],
      "metadata": {
        "id": "C5NXx4Zxsr2k"
      },
      "execution_count": 10,
      "outputs": []
    },
    {
      "cell_type": "markdown",
      "source": [
        "**1. Data Normalization**\n",
        "\n",
        "Each pixel value in the training data (`X_train`) is divided by 255.0. This step normalizes the pixel values to be in the range [0, 1]. This normalization is often performed to make training faster and more stable.\n",
        "\n",
        "**2. Data Reshape**\n",
        "\n",
        "reshapes the training data (`X_train`) into a 4D array with dimensions (-1, 28, 28, 1). The '-1' indicates that the size of that dimension will be inferred based on the other dimensions. The '28, 28, 1' indicates that each image is 28x28 pixels with a single color channel (grayscale).\n",
        "\n",
        "**3. Encoding**\n",
        "\n",
        "This line encodes the target labels (`Y_train`) into categorical format using one-hot encoding. Each label is converted into a binary vector of length equal to the number of classes (in this case, 10), with a 1 in the position corresponding to the class and 0s elsewhere. This format is often used for multiclass classification tasks in neural networks."
      ],
      "metadata": {
        "id": "rifKKfArp-eh"
      }
    },
    {
      "cell_type": "code",
      "source": [
        "# Data Splitting\n",
        "X_train, X_val, Y_train, Y_val = train_test_split(X_train, Y_train, test_size=.1, random_state=7)"
      ],
      "metadata": {
        "id": "RYydRTjiStBx"
      },
      "execution_count": 11,
      "outputs": []
    },
    {
      "cell_type": "markdown",
      "source": [
        "This function is splitting the data into training and validation sets using `train_test_split`\n",
        "\n",
        "`X_train` and `Y_train` are the features (input data) and labels (output data) respectively.\n",
        "test_size=.1 indicates that 10% of the data will be used for validation, while the remaining 90% will be used for training.\n",
        "\n",
        "`random_state=7` ensures that the random split is reproducible, meaning if you run this code multiple times with the same random_state, you will get the same split.\n",
        "\n",
        "The function returns four variables: `X_train`, `X_val`, `Y_train`, and `Y_val`.\n",
        "\n",
        "`X_train` and `Y_train` represent the features and labels of the training set respectively.\n",
        "`X_val` and `Y_val` represent the features and labels of the validation set respectively."
      ],
      "metadata": {
        "id": "vWSOsplGqf8s"
      }
    },
    {
      "cell_type": "code",
      "source": [
        "# Preview Images\n",
        "plt.figure(figsize=(15,4.5))\n",
        "for i in range(30):\n",
        "    plt.subplot(3, 10, i+1)\n",
        "    plt.imshow(X_train[i].reshape((28,28)),cmap=plt.cm.binary)\n",
        "    plt.axis('off')\n",
        "plt.subplots_adjust(wspace=-0.1, hspace=-0.1)\n",
        "plt.show()"
      ],
      "metadata": {
        "colab": {
          "base_uri": "https://localhost:8080/",
          "height": 383
        },
        "id": "Cn3G0z3Bqnog",
        "outputId": "3a03ecea-2992-4ead-fdd0-ed5fa672edd6"
      },
      "execution_count": 12,
      "outputs": [
        {
          "output_type": "display_data",
          "data": {
            "text/plain": [
              "<Figure size 1500x450 with 30 Axes>"
            ],
            "image/png": "[encoded data removed]"
          },
          "metadata": {}
        }
      ]
    },
    {
      "cell_type": "markdown",
      "source": [
        "## Image Preprocessing"
      ],
      "metadata": {
        "id": "lQO9ffkkiiGn"
      }
    },
    {
      "cell_type": "code",
      "source": [
        "train_datagen = ImageDataGenerator(\n",
        "    rotation_range=20,\n",
        "    width_shift_range=0.05,\n",
        "    height_shift_range=0.05,\n",
        "    zoom_range=0.1,\n",
        ")\n",
        "\n",
        "train_datagen.fit(X_train)"
      ],
      "metadata": {
        "id": "Z6v-g5RBih5L"
      },
      "execution_count": 25,
      "outputs": []
    },
    {
      "cell_type": "markdown",
      "source": [
        "we use `ImageDataGenerator` class from the Keras library used for augmenting image data during training to increase the diversity of the training set and improve the generalization ability of the model. Here's what each part of the code does:\n",
        "\n",
        "`rotation_range=20` : Randomly rotates images within the specified range (in degrees). In this case, images will be rotated by up to 20 degrees clockwise or counterclockwise.\n",
        "\n",
        "`width_shift_range=0.05` : Randomly shifts images horizontally by a fraction of the total width. Here, images may be horizontally shifted by up to 5% of their total width.\n",
        "\n",
        "`height_shift_range=0.05` : Randomly shifts images vertically by a fraction of the total height. Similar to width_shift_range, images may be vertically shifted by up to 5% of their total height.\n",
        "\n",
        "`zoom_range=0.1` : Randomly zooms into images. A value of 0.1 means that images may be zoomed in by up to 10%."
      ],
      "metadata": {
        "id": "-mBTXJIarPbJ"
      }
    },
    {
      "cell_type": "code",
      "source": [
        "# Preview Augmented Images\n",
        "X_train3 = X_train[9,].reshape((1,28,28,1))\n",
        "Y_train3 = Y_train[9,].reshape((1,10))\n",
        "plt.figure(figsize=(15,4.5))\n",
        "for i in range(30):\n",
        "    plt.subplot(3, 10, i+1)\n",
        "    X_train2, Y_train2 = train_datagen.flow(X_train3,Y_train3).next()\n",
        "    plt.imshow(X_train2[0].reshape((28,28)),cmap=plt.cm.binary)\n",
        "    plt.axis('off')\n",
        "    if i==9: X_train3 = X_train[11,].reshape((1,28,28,1))\n",
        "    if i==19: X_train3 = X_train[18,].reshape((1,28,28,1))\n",
        "plt.subplots_adjust(wspace=-0.1, hspace=-0.1)\n",
        "plt.show()\n"
      ],
      "metadata": {
        "colab": {
          "base_uri": "https://localhost:8080/",
          "height": 383
        },
        "id": "TUNPrLi5kdLP",
        "outputId": "6d9b4f13-de8e-47dc-c64c-95fa8914ece2"
      },
      "execution_count": 26,
      "outputs": [
        {
          "output_type": "display_data",
          "data": {
            "text/plain": [
              "<Figure size 1500x450 with 30 Axes>"
            ],
            "image/png": "[encoded data removed]"
          },
          "metadata": {}
        }
      ]
    },
    {
      "cell_type": "markdown",
      "source": [
        "This is the example of the images that have been augmented by ImageDataGenerator"
      ],
      "metadata": {
        "id": "8aoyXPWrriKf"
      }
    },
    {
      "cell_type": "markdown",
      "source": [
        "# **Model Definition**"
      ],
      "metadata": {
        "id": "wXoIl_9du7AB"
      }
    },
    {
      "cell_type": "code",
      "source": [
        "model = Sequential()\n",
        "\n",
        "model.add(Conv2D(32, (3, 3), activation='relu', padding='same', input_shape=(28,28,1)))\n",
        "model.add(BatchNormalization())\n",
        "model.add(Conv2D(32, (3, 3), activation='relu', padding='same'))\n",
        "model.add(BatchNormalization())\n",
        "model.add(MaxPooling2D((2,2)))\n",
        "model.add(Dropout(0.25))\n",
        "\n",
        "model.add(Conv2D(64, (3, 3), activation='relu', padding='same'))\n",
        "model.add(BatchNormalization())\n",
        "model.add(Conv2D(128, (3, 3), activation='relu', padding='same', kernel_regularizer='l2'))\n",
        "model.add(Conv2D(64, (3, 3), activation='relu', padding='same'))\n",
        "model.add(BatchNormalization())\n",
        "model.add(MaxPooling2D((2,2)))\n",
        "model.add(Dropout(0.25))\n",
        "\n",
        "model.add(Flatten())\n",
        "\n",
        "model.add(Dense(256, activation='relu',kernel_regularizer=regularizers.l2(0.01)))\n",
        "model.add(Dropout(0.4))\n",
        "model.add(Dense(10, activation='softmax'))"
      ],
      "metadata": {
        "id": "BgqXW-dNlQIy"
      },
      "execution_count": 50,
      "outputs": []
    },
    {
      "cell_type": "markdown",
      "source": [
        "`input_shape=(28,28,1)`: Specifies the shape of the input data. In this case, it's a grayscale image with dimensions 28x28 pixels.\n",
        "\n",
        "`Conv2D` : These layers perform 2D convolution operations on the input data.\n",
        "\n",
        "`activation='relu'` : ReLU (Rectified Linear Unit) activation function is applied to introduce non-linearity.\n",
        "\n",
        "`padding='same'`: Padding is added to the input image to ensure that the output has the same spatial dimensions.\n",
        "\n",
        "`BatchNormalization()`: Normalizes the activations of the previous layer at each batch.\n",
        "\n",
        "`Dropout()`: Randomly sets a fraction of input units to 0 at each update during training to prevent overfitting.\n",
        "\n",
        "`MaxPooling2D((2,2))`: Performs max pooling operation to reduce spatial dimensions by taking the maximum value within a 2x2 window.\n",
        "\n",
        "`Flatten()` : Flattens the output of the previous layer into a one-dimensional array.\n",
        "\n",
        "`Dense` : Fully connected layers where each neuron is connected to every neuron in the previous layer.\n",
        "\n",
        "`kernel_regularizer`: Regularization applied to the kernel weights to prevent overfitting.\n",
        "\n",
        "`softmax` activation function is used in the output layer for multiclass classification, providing probabilities for each class."
      ],
      "metadata": {
        "id": "-FHGKnifsHmu"
      }
    },
    {
      "cell_type": "markdown",
      "source": [
        "# **Model Compilation**"
      ],
      "metadata": {
        "id": "Df__TAAku-E2"
      }
    },
    {
      "cell_type": "code",
      "source": [
        "early_stop = tf.keras.callbacks.EarlyStopping(monitor='val_loss', patience=5, restore_best_weights=True)\n",
        "\n",
        "lr_schedule = tf.keras.optimizers.schedules.ExponentialDecay(initial_learning_rate=0.001,decay_steps=10000,decay_rate=0.9,staircase=True)\n",
        "optimizer = tf.keras.optimizers.Adam(learning_rate=lr_schedule)\n",
        "\n",
        "model.compile(optimizer=optimizer, loss='categorical_crossentropy', metrics=['accuracy'])\n",
        "\n",
        "model.summary()"
      ],
      "metadata": {
        "colab": {
          "base_uri": "https://localhost:8080/"
        },
        "id": "9Y1ZFTjhmjjh",
        "outputId": "731071c6-1000-4782-8eba-fe9bb7a60124"
      },
      "execution_count": 51,
      "outputs": [
        {
          "output_type": "stream",
          "name": "stdout",
          "text": [
            "Model: \"sequential_5\"\n",
            "_________________________________________________________________\n",
            " Layer (type)                Output Shape              Param #   \n",
            "=================================================================\n",
            " conv2d_27 (Conv2D)          (None, 28, 28, 32)        320       \n",
            "                                                                 \n",
            " batch_normalization_18 (Ba  (None, 28, 28, 32)        128       \n",
            " tchNormalization)                                               \n",
            "                                                                 \n",
            " conv2d_28 (Conv2D)          (None, 28, 28, 32)        9248      \n",
            "                                                                 \n",
            " batch_normalization_19 (Ba  (None, 28, 28, 32)        128       \n",
            " tchNormalization)                                               \n",
            "                                                                 \n",
            " max_pooling2d_11 (MaxPooli  (None, 14, 14, 32)        0         \n",
            " ng2D)                                                           \n",
            "                                                                 \n",
            " dropout_16 (Dropout)        (None, 14, 14, 32)        0         \n",
            "                                                                 \n",
            " conv2d_29 (Conv2D)          (None, 14, 14, 64)        18496     \n",
            "                                                                 \n",
            " batch_normalization_20 (Ba  (None, 14, 14, 64)        256       \n",
            " tchNormalization)                                               \n",
            "                                                                 \n",
            " conv2d_30 (Conv2D)          (None, 14, 14, 128)       73856     \n",
            "                                                                 \n",
            " conv2d_31 (Conv2D)          (None, 14, 14, 64)        73792     \n",
            "                                                                 \n",
            " batch_normalization_21 (Ba  (None, 14, 14, 64)        256       \n",
            " tchNormalization)                                               \n",
            "                                                                 \n",
            " max_pooling2d_12 (MaxPooli  (None, 7, 7, 64)          0         \n",
            " ng2D)                                                           \n",
            "                                                                 \n",
            " dropout_17 (Dropout)        (None, 7, 7, 64)          0         \n",
            "                                                                 \n",
            " flatten_5 (Flatten)         (None, 3136)              0         \n",
            "                                                                 \n",
            " dense_10 (Dense)            (None, 256)               803072    \n",
            "                                                                 \n",
            " dropout_18 (Dropout)        (None, 256)               0         \n",
            "                                                                 \n",
            " dense_11 (Dense)            (None, 10)                2570      \n",
            "                                                                 \n",
            "=================================================================\n",
            "Total params: 982122 (3.75 MB)\n",
            "Trainable params: 981738 (3.75 MB)\n",
            "Non-trainable params: 384 (1.50 KB)\n",
            "_________________________________________________________________\n"
          ]
        }
      ]
    },
    {
      "cell_type": "markdown",
      "source": [
        "`Early Stopping Callback`, It sets up a mechanism to stop training early if the model's performance on the validation data stops improving. This helps prevent overfitting and saves time by avoiding unnecessary training epochs.\n",
        "\n",
        "`Learning Rate Schedule`, It defines how the learning rate, which controls how much the model adjusts its parameters during training, changes over time. A decreasing learning rate helps the model converge more effectively towards a good solution.\n",
        "\n",
        "`Optimizer`, It specifies the optimization algorithm used to update the model's parameters during training. The Adam optimizer is a popular choice for deep learning models due to its efficiency and effectiveness.\n",
        "\n",
        "`Model Compilation`, It sets up the model for training by specifying the optimizer, loss function, and evaluation metrics.\n",
        "\n",
        "`Model Summary`, It provides a summary of the model's architecture,"
      ],
      "metadata": {
        "id": "HlpHVDVCs41r"
      }
    },
    {
      "cell_type": "markdown",
      "source": [
        "# **Model Training**"
      ],
      "metadata": {
        "id": "xHirkt50vFRQ"
      }
    },
    {
      "cell_type": "code",
      "source": [
        "batch_size = 82\n",
        "epochs = 50\n",
        "\n",
        "history = model.fit(train_datagen.flow(X_train,Y_train, batch_size=batch_size),\n",
        "                              epochs = epochs, validation_data = (X_val,Y_val),\n",
        "                              verbose = 2, steps_per_epoch=X_train.shape[0] // batch_size\n",
        "                              , callbacks=early_stop)"
      ],
      "metadata": {
        "colab": {
          "base_uri": "https://localhost:8080/"
        },
        "id": "lVUpa20QnFry",
        "outputId": "f82f43e1-d7fd-4689-8165-e5d87f20906b"
      },
      "execution_count": 52,
      "outputs": [
        {
          "output_type": "stream",
          "name": "stdout",
          "text": [
            "Epoch 1/50\n",
            "460/460 - 18s - loss: 2.2321 - accuracy: 0.8945 - val_loss: 0.7145 - val_accuracy: 0.9388 - 18s/epoch - 38ms/step\n",
            "Epoch 2/50\n",
            "460/460 - 13s - loss: 0.4875 - accuracy: 0.9555 - val_loss: 0.3460 - val_accuracy: 0.9817 - 13s/epoch - 29ms/step\n",
            "Epoch 3/50\n",
            "460/460 - 15s - loss: 0.3919 - accuracy: 0.9622 - val_loss: 0.3282 - val_accuracy: 0.9836 - 15s/epoch - 33ms/step\n",
            "Epoch 4/50\n",
            "460/460 - 13s - loss: 0.3738 - accuracy: 0.9630 - val_loss: 0.2845 - val_accuracy: 0.9881 - 13s/epoch - 29ms/step\n",
            "Epoch 5/50\n",
            "460/460 - 14s - loss: 0.3311 - accuracy: 0.9686 - val_loss: 0.2754 - val_accuracy: 0.9855 - 14s/epoch - 30ms/step\n",
            "Epoch 6/50\n",
            "460/460 - 14s - loss: 0.3309 - accuracy: 0.9671 - val_loss: 0.2636 - val_accuracy: 0.9890 - 14s/epoch - 30ms/step\n",
            "Epoch 7/50\n",
            "460/460 - 15s - loss: 0.3089 - accuracy: 0.9703 - val_loss: 0.2847 - val_accuracy: 0.9812 - 15s/epoch - 33ms/step\n",
            "Epoch 8/50\n",
            "460/460 - 14s - loss: 0.3140 - accuracy: 0.9700 - val_loss: 0.2578 - val_accuracy: 0.9900 - 14s/epoch - 30ms/step\n",
            "Epoch 9/50\n",
            "460/460 - 14s - loss: 0.2998 - accuracy: 0.9719 - val_loss: 0.2597 - val_accuracy: 0.9864 - 14s/epoch - 30ms/step\n",
            "Epoch 10/50\n",
            "460/460 - 15s - loss: 0.2883 - accuracy: 0.9743 - val_loss: 0.2346 - val_accuracy: 0.9852 - 15s/epoch - 32ms/step\n",
            "Epoch 11/50\n",
            "460/460 - 13s - loss: 0.2921 - accuracy: 0.9730 - val_loss: 0.2496 - val_accuracy: 0.9888 - 13s/epoch - 29ms/step\n",
            "Epoch 12/50\n",
            "460/460 - 13s - loss: 0.2907 - accuracy: 0.9745 - val_loss: 0.2456 - val_accuracy: 0.9867 - 13s/epoch - 29ms/step\n",
            "Epoch 13/50\n",
            "460/460 - 13s - loss: 0.2825 - accuracy: 0.9741 - val_loss: 0.2154 - val_accuracy: 0.9890 - 13s/epoch - 29ms/step\n",
            "Epoch 14/50\n",
            "460/460 - 14s - loss: 0.2770 - accuracy: 0.9750 - val_loss: 0.2540 - val_accuracy: 0.9876 - 14s/epoch - 30ms/step\n",
            "Epoch 15/50\n",
            "460/460 - 14s - loss: 0.2780 - accuracy: 0.9746 - val_loss: 0.2428 - val_accuracy: 0.9860 - 14s/epoch - 29ms/step\n",
            "Epoch 16/50\n",
            "460/460 - 13s - loss: 0.2696 - accuracy: 0.9765 - val_loss: 0.2384 - val_accuracy: 0.9843 - 13s/epoch - 29ms/step\n",
            "Epoch 17/50\n",
            "460/460 - 13s - loss: 0.2502 - accuracy: 0.9772 - val_loss: 0.1960 - val_accuracy: 0.9893 - 13s/epoch - 29ms/step\n",
            "Epoch 18/50\n",
            "460/460 - 13s - loss: 0.2533 - accuracy: 0.9764 - val_loss: 0.2251 - val_accuracy: 0.9869 - 13s/epoch - 29ms/step\n",
            "Epoch 19/50\n",
            "460/460 - 14s - loss: 0.2400 - accuracy: 0.9777 - val_loss: 0.2229 - val_accuracy: 0.9869 - 14s/epoch - 29ms/step\n",
            "Epoch 20/50\n",
            "460/460 - 14s - loss: 0.2459 - accuracy: 0.9785 - val_loss: 0.2091 - val_accuracy: 0.9902 - 14s/epoch - 29ms/step\n",
            "Epoch 21/50\n",
            "460/460 - 13s - loss: 0.2406 - accuracy: 0.9782 - val_loss: 0.1945 - val_accuracy: 0.9883 - 13s/epoch - 29ms/step\n",
            "Epoch 22/50\n",
            "460/460 - 13s - loss: 0.2291 - accuracy: 0.9792 - val_loss: 0.2129 - val_accuracy: 0.9881 - 13s/epoch - 29ms/step\n",
            "Epoch 23/50\n",
            "460/460 - 13s - loss: 0.2094 - accuracy: 0.9806 - val_loss: 0.1970 - val_accuracy: 0.9881 - 13s/epoch - 29ms/step\n",
            "Epoch 24/50\n",
            "460/460 - 13s - loss: 0.2145 - accuracy: 0.9804 - val_loss: 0.1750 - val_accuracy: 0.9910 - 13s/epoch - 29ms/step\n",
            "Epoch 25/50\n",
            "460/460 - 15s - loss: 0.2070 - accuracy: 0.9805 - val_loss: 0.1750 - val_accuracy: 0.9905 - 15s/epoch - 33ms/step\n",
            "Epoch 26/50\n",
            "460/460 - 14s - loss: 0.2222 - accuracy: 0.9796 - val_loss: 0.1881 - val_accuracy: 0.9926 - 14s/epoch - 30ms/step\n",
            "Epoch 27/50\n",
            "460/460 - 17s - loss: 0.2031 - accuracy: 0.9811 - val_loss: 0.2125 - val_accuracy: 0.9902 - 17s/epoch - 37ms/step\n",
            "Epoch 28/50\n",
            "460/460 - 15s - loss: 0.2093 - accuracy: 0.9806 - val_loss: 0.1735 - val_accuracy: 0.9898 - 15s/epoch - 32ms/step\n",
            "Epoch 29/50\n",
            "460/460 - 13s - loss: 0.2015 - accuracy: 0.9811 - val_loss: 0.1924 - val_accuracy: 0.9881 - 13s/epoch - 29ms/step\n",
            "Epoch 30/50\n",
            "460/460 - 13s - loss: 0.1988 - accuracy: 0.9820 - val_loss: 0.1579 - val_accuracy: 0.9905 - 13s/epoch - 29ms/step\n",
            "Epoch 31/50\n",
            "460/460 - 13s - loss: 0.1987 - accuracy: 0.9819 - val_loss: 0.1858 - val_accuracy: 0.9900 - 13s/epoch - 29ms/step\n",
            "Epoch 32/50\n",
            "460/460 - 13s - loss: 0.1980 - accuracy: 0.9822 - val_loss: 0.1816 - val_accuracy: 0.9910 - 13s/epoch - 29ms/step\n",
            "Epoch 33/50\n",
            "460/460 - 18s - loss: 0.1951 - accuracy: 0.9826 - val_loss: 0.1602 - val_accuracy: 0.9912 - 18s/epoch - 40ms/step\n",
            "Epoch 34/50\n",
            "460/460 - 13s - loss: 0.1976 - accuracy: 0.9825 - val_loss: 0.1773 - val_accuracy: 0.9876 - 13s/epoch - 29ms/step\n",
            "Epoch 35/50\n",
            "460/460 - 13s - loss: 0.1934 - accuracy: 0.9825 - val_loss: 0.1607 - val_accuracy: 0.9907 - 13s/epoch - 29ms/step\n"
          ]
        }
      ]
    },
    {
      "cell_type": "markdown",
      "source": [
        "# **Model Evaluation**"
      ],
      "metadata": {
        "id": "h52_xhTevJvZ"
      }
    },
    {
      "cell_type": "code",
      "source": [
        "results = np.zeros((X_test.shape[0],10))\n",
        "results = results + model.predict(X_test)\n",
        "results = np.argmax(results,axis = 1)\n",
        "results = pd.Series(results,name=\"Label\")\n",
        "submission = pd.concat([pd.Series(range(1,28001),name = \"ImageId\"),results],axis = 1)\n",
        "submission.to_csv(\"mnist_digit_recognizer.csv\",index=False)"
      ],
      "metadata": {
        "colab": {
          "base_uri": "https://localhost:8080/"
        },
        "id": "B4qxjeY4oj7J",
        "outputId": "261b460e-2b92-4322-da1a-2d9ebac1872a"
      },
      "execution_count": 55,
      "outputs": [
        {
          "output_type": "stream",
          "name": "stdout",
          "text": [
            "875/875 [==============================] - 2s 2ms/step\n"
          ]
        }
      ]
    },
    {
      "cell_type": "code",
      "source": [
        "# Preview Predictions\n",
        "plt.figure(figsize=(15,6))\n",
        "for i in range(40):\n",
        "    plt.subplot(4, 10, i+1)\n",
        "    plt.imshow(X_test[i].reshape((28,28)),cmap=plt.cm.binary)\n",
        "    plt.title(\"predict=%d\" % results[i],y=0.9)\n",
        "    plt.axis('off')\n",
        "plt.subplots_adjust(wspace=0.3, hspace=-0.1)\n",
        "plt.show()"
      ],
      "metadata": {
        "colab": {
          "base_uri": "https://localhost:8080/",
          "height": 478
        },
        "id": "9XPVWleKl1gQ",
        "outputId": "40d900ba-3ddb-4ada-d6b0-3b0b20cc2129"
      },
      "execution_count": 56,
      "outputs": [
        {
          "output_type": "display_data",
          "data": {
            "text/plain": [
              "<Figure size 1500x600 with 40 Axes>"
            ],
            "image/png": "[encoded data removed]"
          },
          "metadata": {}
        }
      ]
    },
    {
      "cell_type": "markdown",
      "source": [
        "# **Conclusion**"
      ],
      "metadata": {
        "id": "t52uh_5QvOuv"
      }
    },
    {
      "cell_type": "markdown",
      "source": [
        "In this project, a Convolutional Neural Network (CNN) architecture was employed using TensorFlow to accomplish the task of recognizing handwritten digits from the MNIST dataset."
      ],
      "metadata": {
        "id": "MBi83q5Kv2vc"
      }
    },
    {
      "cell_type": "markdown",
      "source": [
        "![image.png](data:image/png;base64,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)"
      ],
      "metadata": {
        "id": "HPnGA4sIyIgP"
      }
    }
  ]
}